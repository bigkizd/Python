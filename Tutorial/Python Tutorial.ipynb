{
 "cells": [
  {
   "cell_type": "markdown",
   "metadata": {},
   "source": [
    "# Function"
   ]
  },
  {
   "cell_type": "markdown",
   "metadata": {},
   "source": [
    "## Function Decorators in Python | Set 1(Introduction)\n"
   ]
  },
  {
   "cell_type": "code",
   "execution_count": 2,
   "metadata": {},
   "outputs": [
    {
     "name": "stdout",
     "output_type": "stream",
     "text": [
      "addtoan\n"
     ]
    }
   ],
   "source": [
    "def messageWithWelcome(str):\n",
    "    def add():\n",
    "        return \"add\"\n",
    "    return add()+str\n",
    "print(messageWithWelcome(\"toan\"))"
   ]
  },
  {
   "cell_type": "code",
   "execution_count": 5,
   "metadata": {},
   "outputs": [
    {
     "name": "stdout",
     "output_type": "stream",
     "text": [
      "Welcome to toan\n"
     ]
    }
   ],
   "source": [
    "def decorate_message(fun):\n",
    "    def add(name):\n",
    "        return \"Welcome to \"+fun(name)\n",
    "    return add \n",
    "\n",
    "@decorate_message\n",
    "def site(site_name):\n",
    "    return site_name\n",
    "print(site(\"toan\"))"
   ]
  },
  {
   "cell_type": "code",
   "execution_count": 7,
   "metadata": {},
   "outputs": [
    {
     "name": "stdout",
     "output_type": "stream",
     "text": [
      "3\n"
     ]
    }
   ],
   "source": [
    "def attack_data(func):\n",
    "    func.data = 3\n",
    "    return func\n",
    "@attack_data\n",
    "def add(x, y):\n",
    "    return x+y\n",
    "print(add.data)"
   ]
  },
  {
   "cell_type": "markdown",
   "metadata": {},
   "source": [
    "## How to write an empty function in Python - pass statement\n"
   ]
  },
  {
   "cell_type": "code",
   "execution_count": 8,
   "metadata": {},
   "outputs": [],
   "source": [
    "# Correct way of writting empty function in \n",
    "def fun():\n",
    "    pass\n"
   ]
  },
  {
   "cell_type": "markdown",
   "metadata": {},
   "source": [
    "## When to use yield instead of return in Python"
   ]
  },
  {
   "cell_type": "code",
   "execution_count": null,
   "metadata": {},
   "outputs": [],
   "source": [
    "def simpleGeneratorFun():\n",
    "    yield 1\n",
    "    yield 2\n",
    "    yield 3\n",
    "for value in simpleGeneratorFun():\n",
    "    print(value)"
   ]
  },
  {
   "cell_type": "code",
   "execution_count": null,
   "metadata": {},
   "outputs": [],
   "source": [
    "# def nextSquare():\n",
    "#     i=1\n",
    "#     while(True):\n",
    "#         yield i*i\n",
    "#         i+=1\n",
    "        \n",
    "# for num in nextSquare():\n",
    "#     if(num>100):\n",
    "#         break\n",
    "#     print(num)"
   ]
  },
  {
   "cell_type": "markdown",
   "metadata": {},
   "source": [
    "## Returning Multiple Values in Python\n"
   ]
  },
  {
   "cell_type": "code",
   "execution_count": null,
   "metadata": {},
   "outputs": [],
   "source": [
    "# Using Object\n",
    "\n",
    "class Test:\n",
    "    def __init__(self):\n",
    "        self.str = \"toan\"\n",
    "        sele.x = 20\n",
    "def fun():\n",
    "    return Test()\n",
    "t = fun()\n",
    "print(t.str)\n",
    "print(t.x)\n",
    "# Using Tuple\n",
    "def fun():\n",
    "    str = \"toan\"\n",
    "    x = 20\n",
    "    return str, x\n",
    "str, x =fun()\n",
    "print(str)\n",
    "#Using a list\n",
    "def fun():\n",
    "    str = \"toan\"\n",
    "    x = 20\n",
    "    return [str, x]\n"
   ]
  },
  {
   "cell_type": "markdown",
   "metadata": {},
   "source": [
    "## Precision Handling in Python"
   ]
  },
  {
   "cell_type": "code",
   "execution_count": null,
   "metadata": {},
   "outputs": [],
   "source": [
    "# trunc()\n",
    "import math\n",
    "a =3.4536\n",
    "print(math.trunc(a))\n",
    "# ceil()\n",
    "print(math.ceil(a))\n",
    "# floor()\n",
    "print(math.floor(a))\n",
    "\n",
    "# Setting Precision\n",
    "# Using \"%\"\n",
    "print(\"The value of number till 2 decimal place(using %) is :\")\n",
    "print(\"%.2f\"%a)\n",
    "print(\"The value of number till decimal place(using format())\")\n",
    "print(\"{0:.2f}\".format(a))\n",
    "print(\"The value of number till 2 decimal place(using round())\")\n",
    "print(round(a, 2))"
   ]
  },
  {
   "cell_type": "markdown",
   "metadata": {},
   "source": [
    "## *args and **kwargs in Python\n"
   ]
  },
  {
   "cell_type": "code",
   "execution_count": 1,
   "metadata": {},
   "outputs": [
    {
     "ename": "TypeError",
     "evalue": "%d format: a number is required, not str",
     "output_type": "error",
     "traceback": [
      "\u001b[1;31m---------------------------------------------------------------------------\u001b[0m",
      "\u001b[1;31mTypeError\u001b[0m                                 Traceback (most recent call last)",
      "\u001b[1;32m<ipython-input-1-bfce2bee79c0>\u001b[0m in \u001b[0;36m<module>\u001b[1;34m()\u001b[0m\n\u001b[0;32m      4\u001b[0m     \u001b[1;32mfor\u001b[0m \u001b[0marg\u001b[0m \u001b[1;32min\u001b[0m \u001b[0margv\u001b[0m\u001b[1;33m:\u001b[0m\u001b[1;33m\u001b[0m\u001b[0m\n\u001b[0;32m      5\u001b[0m         \u001b[0mprint\u001b[0m\u001b[1;33m(\u001b[0m\u001b[1;34m\"Next argument through *argv\"\u001b[0m\u001b[1;33m,\u001b[0m \u001b[0marg\u001b[0m\u001b[1;33m)\u001b[0m\u001b[1;33m\u001b[0m\u001b[0m\n\u001b[1;32m----> 6\u001b[1;33m \u001b[0mtestify\u001b[0m\u001b[1;33m(\u001b[0m\u001b[1;34m'Hello'\u001b[0m\u001b[1;33m,\u001b[0m \u001b[1;34m'Welcome'\u001b[0m\u001b[1;33m,\u001b[0m \u001b[1;34m'to'\u001b[0m\u001b[1;33m,\u001b[0m \u001b[1;34m'GeeksforGeeks'\u001b[0m\u001b[1;33m)\u001b[0m\u001b[1;33m\u001b[0m\u001b[0m\n\u001b[0m",
      "\u001b[1;32m<ipython-input-1-bfce2bee79c0>\u001b[0m in \u001b[0;36mtestify\u001b[1;34m(arg1, *argv)\u001b[0m\n\u001b[0;32m      1\u001b[0m \u001b[1;31m# *args\u001b[0m\u001b[1;33m\u001b[0m\u001b[1;33m\u001b[0m\u001b[0m\n\u001b[0;32m      2\u001b[0m \u001b[1;32mdef\u001b[0m \u001b[0mtestify\u001b[0m\u001b[1;33m(\u001b[0m\u001b[0marg1\u001b[0m\u001b[1;33m,\u001b[0m \u001b[1;33m*\u001b[0m\u001b[0margv\u001b[0m\u001b[1;33m)\u001b[0m\u001b[1;33m:\u001b[0m\u001b[1;33m\u001b[0m\u001b[0m\n\u001b[1;32m----> 3\u001b[1;33m     \u001b[0mprint\u001b[0m\u001b[1;33m(\u001b[0m\u001b[1;34m\"first argument : %d\"\u001b[0m\u001b[1;33m%\u001b[0m\u001b[0marg1\u001b[0m\u001b[1;33m)\u001b[0m\u001b[1;33m\u001b[0m\u001b[0m\n\u001b[0m\u001b[0;32m      4\u001b[0m     \u001b[1;32mfor\u001b[0m \u001b[0marg\u001b[0m \u001b[1;32min\u001b[0m \u001b[0margv\u001b[0m\u001b[1;33m:\u001b[0m\u001b[1;33m\u001b[0m\u001b[0m\n\u001b[0;32m      5\u001b[0m         \u001b[0mprint\u001b[0m\u001b[1;33m(\u001b[0m\u001b[1;34m\"Next argument through *argv\"\u001b[0m\u001b[1;33m,\u001b[0m \u001b[0marg\u001b[0m\u001b[1;33m)\u001b[0m\u001b[1;33m\u001b[0m\u001b[0m\n",
      "\u001b[1;31mTypeError\u001b[0m: %d format: a number is required, not str"
     ]
    }
   ],
   "source": [
    "# *args\n",
    "def testify(arg1, *argv):\n",
    "    print(\"first argument : \"arg1)\n",
    "    for arg in argv:\n",
    "        print(\"Next argument through *argv\", arg)\n",
    "testify('Hello', 'Welcome', 'to', 'GeeksforGeeks')      "
   ]
  },
  {
   "cell_type": "code",
   "execution_count": null,
   "metadata": {},
   "outputs": [],
   "source": [
    "# * kwargs\n",
    "def hello(**kwargs):\n",
    "    if kwargs is not None:\n",
    "        for key, value in kwargs.iteritems():\n",
    "            print(\"%s == %s\"%(key, value))"
   ]
  },
  {
   "cell_type": "markdown",
   "metadata": {},
   "source": [
    "# Object Oriented Concepts"
   ]
  },
  {
   "cell_type": "markdown",
   "metadata": {},
   "source": [
    "## Object Oriented Programming - Set 1"
   ]
  },
  {
   "cell_type": "code",
   "execution_count": 2,
   "metadata": {},
   "outputs": [
    {
     "name": "stdout",
     "output_type": "stream",
     "text": [
      "Hello\n"
     ]
    }
   ],
   "source": [
    "class Test:\n",
    "    def fun(self):\n",
    "        print(\"Hello\")\n",
    "obj = Test()\n",
    "obj.fun()"
   ]
  },
  {
   "cell_type": "code",
   "execution_count": 4,
   "metadata": {},
   "outputs": [
    {
     "name": "stdout",
     "output_type": "stream",
     "text": [
      "Hello, my name is  toan\n"
     ]
    }
   ],
   "source": [
    "class Person:\n",
    "    def __init__(self, name):\n",
    "        self.name = name\n",
    "    def say_hi(self):\n",
    "        print(\"Hello, my name is \", self.name)\n",
    "p = Person('toan')\n",
    "p.say_hi()"
   ]
  },
  {
   "cell_type": "code",
   "execution_count": 9,
   "metadata": {},
   "outputs": [
    {
     "name": "stdout",
     "output_type": "stream",
     "text": [
      "cse\n",
      "cse\n",
      "101\n",
      "cse\n",
      "Noida, UP\n"
     ]
    }
   ],
   "source": [
    "class CSStudent:\n",
    "    stream = 'cse'\n",
    "    def __init__(self, roll):\n",
    "        self.roll = roll\n",
    "    def getAddress(self):\n",
    "        return self.address\n",
    "    def setAddress(self, address):\n",
    "        self.address=address\n",
    "a = CSStudent(101)\n",
    "b= CSStudent(102)\n",
    "print(a.stream)\n",
    "print(a.stream)\n",
    "print(a.roll)\n",
    "print(CSStudent.stream)\n",
    "a = CSStudent(101)\n",
    "a.setAddress(\"Noida, UP\")\n",
    "print(a.getAddress())"
   ]
  },
  {
   "cell_type": "code",
   "execution_count": 10,
   "metadata": {},
   "outputs": [],
   "source": [
    "# How to create an empty class\n",
    "class Test:\n",
    "    pass\n"
   ]
  },
  {
   "cell_type": "markdown",
   "metadata": {},
   "source": [
    "## Object Oriented Programming in Python | Set 2 (Data Hiding and Object Printing)"
   ]
  },
  {
   "cell_type": "code",
   "execution_count": 18,
   "metadata": {
    "scrolled": true
   },
   "outputs": [
    {
     "name": "stdout",
     "output_type": "stream",
     "text": [
      "12\n",
      "17\n",
      "17\n",
      "20\n"
     ]
    }
   ],
   "source": [
    "class MyClass:\n",
    "    __hiddenVariable = 10\n",
    "    def add(self, increment):\n",
    "        self.__hiddenVariable+=increment\n",
    "        print(self.__hiddenVariable)\n",
    "\n",
    "myObject = MyClass()\n",
    "myObject.add(2)\n",
    "myObject.add(5)\n",
    "print(myObject._MyClass__hiddenVariable)\n",
    "myObject._MyClass__hiddenVariable=20\n",
    "print(myObject._MyClass__hiddenVariable)"
   ]
  },
  {
   "cell_type": "code",
   "execution_count": 23,
   "metadata": {},
   "outputs": [
    {
     "name": "stdout",
     "output_type": "stream",
     "text": [
      "2Test a:1 b:2\n"
     ]
    }
   ],
   "source": [
    "# Important Points about Printing\n",
    "class Test:\n",
    "    def __init__(self, a, b):\n",
    "        self.a =a\n",
    "        self.b =b\n",
    "    def __repr__(self):\n",
    "        return \"Test a:%s b:%s\"%(self.a, self.b)\n",
    "    def __str__(self):\n",
    "        return \"2Test a:%s b:%s\"%(self.a, self.b)\n",
    "\n",
    "t = Test(1, 2)\n",
    "print(t)"
   ]
  },
  {
   "cell_type": "code",
   "execution_count": 24,
   "metadata": {},
   "outputs": [
    {
     "name": "stdout",
     "output_type": "stream",
     "text": [
      "toan\n",
      "<__main__.Test object at 0x000002750578B198>\n"
     ]
    }
   ],
   "source": [
    "class Test:\n",
    "    def __init__(self, a, b):\n",
    "        self.a =a\n",
    "        self.b = b\n",
    "        print(\"toan\")\n",
    "t = Test(1, 2)\n",
    "print(t)"
   ]
  },
  {
   "cell_type": "markdown",
   "metadata": {},
   "source": [
    "## OOP in Python | Set 3 (Inheritance, examples of object, issubclass and super)"
   ]
  },
  {
   "cell_type": "code",
   "execution_count": 28,
   "metadata": {},
   "outputs": [
    {
     "name": "stdout",
     "output_type": "stream",
     "text": [
      "Geek2 True\n"
     ]
    }
   ],
   "source": [
    "class Person(object):\n",
    "    def __init__(self, name):\n",
    "        self.name = name\n",
    "    def getName(self):\n",
    "         return self.name\n",
    "    def isEmployee(self):\n",
    "        return False\n",
    "class Employee(Person):\n",
    "    def isEmployee(self):\n",
    "        return True\n",
    "emp = Person(\"Geek1\")\n",
    "emp = Employee(\"Geek2\")\n",
    "print(emp.getName(), emp.isEmployee())\n"
   ]
  },
  {
   "cell_type": "code",
   "execution_count": 29,
   "metadata": {},
   "outputs": [
    {
     "name": "stdout",
     "output_type": "stream",
     "text": [
      "False\n"
     ]
    }
   ],
   "source": [
    "class Base(object):\n",
    "    pass\n",
    "class Derived(Base):\n",
    "    pass\n",
    "d = Derived()\n",
    "b = Base()\n",
    "print(isinstance(b, Derived))"
   ]
  },
  {
   "cell_type": "code",
   "execution_count": 31,
   "metadata": {},
   "outputs": [
    {
     "name": "stdout",
     "output_type": "stream",
     "text": [
      "True\n"
     ]
    }
   ],
   "source": [
    "print(isinstance(d, Base))"
   ]
  },
  {
   "cell_type": "code",
   "execution_count": 34,
   "metadata": {},
   "outputs": [
    {
     "name": "stdout",
     "output_type": "stream",
     "text": [
      "Base1\n",
      "Base2\n",
      "Derived\n",
      "Geek1 Geek2\n"
     ]
    }
   ],
   "source": [
    "# Does Python support Multiple Inheritance\n",
    "class Base1(object):\n",
    "    def __init__(self):\n",
    "        self.str1 = \"Geek1\"\n",
    "        print(\"Base1\")\n",
    "class Base2(object):\n",
    "    def __init__(self):\n",
    "        self.str2= \"Geek2\"\n",
    "        print(\"Base2\")\n",
    "class Derived(Base1, Base2):\n",
    "    def __init__(self):\n",
    "        Base1.__init__(self)\n",
    "        Base2.__init__(self)\n",
    "        print(\"Derived\")\n",
    "    def printStr(self):\n",
    "        print(self.str1, self.str2)\n",
    "ob = Derived()\n",
    "ob.printStr()"
   ]
  },
  {
   "cell_type": "code",
   "execution_count": 35,
   "metadata": {},
   "outputs": [
    {
     "name": "stdout",
     "output_type": "stream",
     "text": [
      "10 20\n"
     ]
    }
   ],
   "source": [
    "# How to acess parent members in a subclass\n",
    "class Base(object):\n",
    "    def __init__(self, x):\n",
    "        self.x = x\n",
    "class Derived(Base):\n",
    "    def __init__(self, x, y):\n",
    "        Base.x =x\n",
    "        self.y =y\n",
    "    def printXY(self):\n",
    "        print(Base.x, self.y)\n",
    "d = Derived(10, 20)\n",
    "d.printXY()"
   ]
  },
  {
   "cell_type": "code",
   "execution_count": 36,
   "metadata": {},
   "outputs": [
    {
     "name": "stdout",
     "output_type": "stream",
     "text": [
      "10 20\n"
     ]
    }
   ],
   "source": [
    "# Using super()\n",
    "class Base(object):\n",
    "    def __init__(self, x):\n",
    "        self.x =x\n",
    "class Derived(Base):\n",
    "    def __init__(self, x, y):\n",
    "        super(Derived, self).__init__(x)\n",
    "        self.y =y\n",
    "    def printXY(self):\n",
    "        print(self.x, self.y)\n",
    "d = Derived(10, 20)\n",
    "d.printXY()"
   ]
  },
  {
   "cell_type": "markdown",
   "metadata": {},
   "source": [
    "## Class or Static variables in Python\n"
   ]
  },
  {
   "cell_type": "code",
   "execution_count": 39,
   "metadata": {},
   "outputs": [
    {
     "name": "stdout",
     "output_type": "stream",
     "text": [
      "cse\n",
      "cse\n",
      "Geek\n",
      "Nerd\n"
     ]
    }
   ],
   "source": [
    "class CSStudent:\n",
    "    stream = 'cse'\n",
    "    def __init__(self, name, roll):\n",
    "        self.name = name\n",
    "        self.roll = roll\n",
    "a = CSStudent('Geek', 1)\n",
    "b= CSStudent('Nerd', 2)\n",
    "print(a.stream)\n",
    "print(b.stream)\n",
    "print(a.name)\n",
    "print(b.name)\n",
    "\n"
   ]
  },
  {
   "cell_type": "markdown",
   "metadata": {},
   "source": [
    "## Class method vs static method in Python"
   ]
  },
  {
   "cell_type": "code",
   "execution_count": 41,
   "metadata": {},
   "outputs": [
    {
     "name": "stdout",
     "output_type": "stream",
     "text": [
      "True\n"
     ]
    }
   ],
   "source": [
    "from datetime import date\n",
    "class Person:\n",
    "    def __init__(self, name, age):\n",
    "        self.name = name\n",
    "        self.age = age\n",
    "    @classmethod\n",
    "    def fromBirthYear(cls, name, year):\n",
    "        return cls(name, date.today().year-year)\n",
    "    @staticmethod\n",
    "    def isAdult(age):\n",
    "        return age>18\n",
    "person1 = Person('mayank', 21)\n",
    "person2 = Person.fromBirthYear('mayank', 1996)\n",
    "print(Person.isAdult(22))"
   ]
  },
  {
   "cell_type": "markdown",
   "metadata": {},
   "source": [
    "# Changing Class Members in Python"
   ]
  },
  {
   "cell_type": "code",
   "execution_count": 43,
   "metadata": {},
   "outputs": [
    {
     "name": "stdout",
     "output_type": "stream",
     "text": [
      "Initially\n",
      "a.stream =  cse\n",
      "b.stream =  cse\n",
      "\n",
      "After changing a.stream\n",
      "a.stream =  ece\n",
      "b.stream =  cse\n"
     ]
    }
   ],
   "source": [
    "## We should be careful when changing value of class variable\n",
    "class CSStudent:\n",
    "    stream = 'cse'\n",
    "    def __init__(self, name, roll):\n",
    "        self.name = name\n",
    "        self.roll = roll\n",
    "a = CSStudent(\"Geek\", 1)\n",
    "b= CSStudent(\"Nerd\", 2)\n",
    "print(\"Initially\")\n",
    "print(\"a.stream = \",a.stream)\n",
    "print(\"b.stream = \", b.stream)\n",
    "\n",
    "a.stream = 'ece'\n",
    "print(\"\\nAfter changing a.stream\")\n",
    "print(\"a.stream = \", a.stream)\n",
    "print(\"b.stream = \", b.stream )"
   ]
  },
  {
   "cell_type": "code",
   "execution_count": 44,
   "metadata": {},
   "outputs": [
    {
     "name": "stdout",
     "output_type": "stream",
     "text": [
      "\n",
      " Class variable changes to mec\n",
      "a.stream =  mec\n",
      "b.stream =  cse\n"
     ]
    }
   ],
   "source": [
    "# We should chagne class variables using class name only.\n",
    "class CSStudent:\n",
    "    stream = 'cse'\n",
    "    def __init__(self, name, roll):\n",
    "        self.name = name\n",
    "        self.roll = roll\n",
    "a = CSStudent(\"check\", 3)\n",
    "CSStudent.stream = \"mec\"\n",
    "print(\"\\n Class variable changes to mec\")\n",
    "print(\"a.stream = \", a.stream)\n",
    "print(\"b.stream = \", b.stream)\n"
   ]
  },
  {
   "cell_type": "markdown",
   "metadata": {},
   "source": [
    "##  First Class functions in Python"
   ]
  },
  {
   "cell_type": "code",
   "execution_count": 45,
   "metadata": {},
   "outputs": [
    {
     "name": "stdout",
     "output_type": "stream",
     "text": [
      "HELLO\n",
      "HELLO\n"
     ]
    }
   ],
   "source": [
    "#1. Functions are objects\n",
    "def shout(text):\n",
    "    return text.upper()\n",
    "print(shout('Hello'))\n",
    "yell = shout\n",
    "print(yell('Hello'))"
   ]
  },
  {
   "cell_type": "code",
   "execution_count": 46,
   "metadata": {},
   "outputs": [
    {
     "name": "stdout",
     "output_type": "stream",
     "text": [
      "HI, I AM CREATED BY A FUNCTION PASSED AS AN ARGUMENT.\n",
      "hi, i am created by a function passed as an argument.\n"
     ]
    }
   ],
   "source": [
    "def shout(text):\n",
    "    return text.upper()\n",
    "def whisper(text):\n",
    "    return text.lower()\n",
    "def greet(func):\n",
    "    greeting = func(\"Hi, I am created by a function passed as an argument.\")\n",
    "    print(greeting)\n",
    "    \n",
    "greet(shout)\n",
    "greet(whisper)"
   ]
  },
  {
   "cell_type": "code",
   "execution_count": 47,
   "metadata": {},
   "outputs": [
    {
     "name": "stdout",
     "output_type": "stream",
     "text": [
      "25\n"
     ]
    }
   ],
   "source": [
    "# 3. Functions can return another function\n",
    "def create_adder(x):\n",
    "    def adder(y):\n",
    "        return x+y\n",
    "    return adder\n",
    "add_15 = create_adder(15)\n",
    "print(add_15(10))"
   ]
  },
  {
   "cell_type": "markdown",
   "metadata": {},
   "source": [
    "# Data Types"
   ]
  },
  {
   "cell_type": "markdown",
   "metadata": {},
   "source": [
    "## Strings"
   ]
  },
  {
   "cell_type": "code",
   "execution_count": 54,
   "metadata": {},
   "outputs": [
    {
     "name": "stdout",
     "output_type": "stream",
     "text": [
      "4\n",
      "21\n",
      "True\n",
      "True\n"
     ]
    }
   ],
   "source": [
    "str = \"Hi, I AM CREATED BIGKIZD\"\n",
    "# find(\"string\", beg, end)\n",
    "print(str.find(\"I\"))\n",
    "# rfind(\"string\", beg, end)\n",
    "print(str.rfind(\"I\"))\n",
    "#startswith(\"string\", beg, end)\n",
    "if(str.startswith(\"Hi,\")==True):\n",
    "    print(\"True\")\n",
    "else:\n",
    "    print(\"False\")\n",
    "if(str.endswith(\"BIGKIZD\")==True):\n",
    "    print(\"True\")\n",
    "else:\n",
    "    print(\"False\")\n",
    "# islower(\"string\")\n",
    "#isupper(\"string\")\n",
    "#lower()\n",
    "#upper()\n",
    "#swapcase()\n",
    "# title()\n",
    "\n",
    "#len()\n",
    "# count(\"string\", beg, end)\n",
    "# center()\n",
    "#ljust()\n",
    "#rjust()\n",
    "#isalpha()\n",
    "#isalnum()\n",
    "#isspace()\n",
    "#join()\n",
    "#strip()\n"
   ]
  },
  {
   "cell_type": "markdown",
   "metadata": {},
   "source": [
    "## List"
   ]
  },
  {
   "cell_type": "markdown",
   "metadata": {},
   "source": [
    "## Python List Comprehension and Slicing\n"
   ]
  },
  {
   "cell_type": "code",
   "execution_count": 57,
   "metadata": {},
   "outputs": [
    {
     "name": "stdout",
     "output_type": "stream",
     "text": [
      "[1, 9, 25, 49, 81]\n",
      "[1, 9, 25, 49, 81]\n"
     ]
    }
   ],
   "source": [
    "odd_square = [x**2 for x in range(1, 11) if x%2==1]\n",
    "print(odd_square)\n",
    "odd_square = []\n",
    "for x in range(1, 11):\n",
    "    if(x%2==1):\n",
    "        odd_square.append(x**2)\n",
    "print(odd_square)"
   ]
  },
  {
   "cell_type": "code",
   "execution_count": 48,
   "metadata": {},
   "outputs": [],
   "source": [
    "## Tuples\n"
   ]
  },
  {
   "cell_type": "code",
   "execution_count": 49,
   "metadata": {},
   "outputs": [],
   "source": [
    "## Set\n"
   ]
  },
  {
   "cell_type": "code",
   "execution_count": 50,
   "metadata": {},
   "outputs": [],
   "source": [
    "## Arrays"
   ]
  },
  {
   "cell_type": "code",
   "execution_count": null,
   "metadata": {},
   "outputs": [],
   "source": []
  }
 ],
 "metadata": {
  "kernelspec": {
   "display_name": "Python 3",
   "language": "python",
   "name": "python3"
  },
  "language_info": {
   "codemirror_mode": {
    "name": "ipython",
    "version": 3
   },
   "file_extension": ".py",
   "mimetype": "text/x-python",
   "name": "python",
   "nbconvert_exporter": "python",
   "pygments_lexer": "ipython3",
   "version": "3.6.5"
  }
 },
 "nbformat": 4,
 "nbformat_minor": 2
}
